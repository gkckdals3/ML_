{
  "nbformat": 4,
  "nbformat_minor": 0,
  "metadata": {
    "colab": {
      "name": "경진대회.ipynb",
      "provenance": [],
      "collapsed_sections": [],
      "mount_file_id": "1UhTrXt985t5ptIAIelNIEMBoOoat6WYz",
      "authorship_tag": "ABX9TyNpzyKXLOwqNrHWF/Nhbbrz",
      "include_colab_link": true
    },
    "kernelspec": {
      "name": "python3",
      "display_name": "Python 3"
    },
    "language_info": {
      "name": "python"
    },
    "accelerator": "GPU"
  },
  "cells": [
    {
      "cell_type": "markdown",
      "metadata": {
        "id": "view-in-github",
        "colab_type": "text"
      },
      "source": [
        "<a href=\"https://colab.research.google.com/github/gkckdals3/ML_/blob/main/%EA%B2%BD%EC%A7%84%EB%8C%80%ED%9A%8C(%EC%A0%84%EC%B2%B4%20%EB%8D%B0%EC%9D%B4%ED%84%B0%20%ED%95%99%EC%8A%B5).ipynb\" target=\"_parent\"><img src=\"https://colab.research.google.com/assets/colab-badge.svg\" alt=\"Open In Colab\"/></a>"
      ]
    },
    {
      "cell_type": "code",
      "metadata": {
        "id": "IruI6Dc5AYew"
      },
      "source": [
        "import numpy as np\n",
        "import cv2"
      ],
      "execution_count": 37,
      "outputs": []
    },
    {
      "cell_type": "markdown",
      "metadata": {
        "id": "eyUuiU-ob5DT"
      },
      "source": [
        ""
      ]
    },
    {
      "cell_type": "code",
      "metadata": {
        "colab": {
          "base_uri": "https://localhost:8080/"
        },
        "id": "HnRN6jh-Blif",
        "outputId": "2a12c6ca-8016-4d20-dc7c-b62c5308ded1"
      },
      "source": [
        "import glob\n",
        "from google.colab import drive\n",
        "import pandas as pd\n",
        "drive.mount('/gdrive', force_remount=True)\n",
        "#train 타겟값 target에 저장\n",
        "target_table=pd.read_csv('/gdrive/MyDrive/SyntekaBio/train_output.csv').to_numpy()\n",
        "target=target_table[:,1:].astype(float)\n",
        "train_data =(sorted(glob.glob('/gdrive/MyDrive/SyntekaBio/train/PNG/*.png')))"
      ],
      "execution_count": 38,
      "outputs": [
        {
          "output_type": "stream",
          "name": "stdout",
          "text": [
            "Mounted at /gdrive\n"
          ]
        }
      ]
    },
    {
      "cell_type": "code",
      "metadata": {
        "id": "J9DFtkxZB5cu"
      },
      "source": [
        "#전체 데이터 불러오기/데이터 10분에 1로 축소\n",
        "for i in range (len(train_data)):\n",
        "  train_data[i]=cv2.imread(train_data[i])\n",
        "  train_data[i]=cv2.resize(train_data[i],dsize=(128, 128),interpolation=cv2.INTER_AREA)\n",
        "  train_data[i]=train_data[i].astype(np.float32)/255\n",
        "train_scaled=np.array(train_data)"
      ],
      "execution_count": 39,
      "outputs": []
    },
    {
      "cell_type": "code",
      "metadata": {
        "colab": {
          "base_uri": "https://localhost:8080/"
        },
        "id": "clgdOjT-_v0T",
        "outputId": "a5b8d4bf-925f-47af-83f8-c3a093b7ecee"
      },
      "source": [
        "from tensorflow import keras\n",
        "#전체 이미지 데이터 학습\n",
        "print('학습 데이터 shape : ', train_scaled.shape)\n",
        "print('검증 데이터 shape : ', target.shape)\n"
      ],
      "execution_count": 40,
      "outputs": [
        {
          "output_type": "stream",
          "name": "stdout",
          "text": [
            "학습 데이터 shape :  (501, 128, 128, 3)\n",
            "검증 데이터 shape :  (501, 1)\n"
          ]
        }
      ]
    },
    {
      "cell_type": "code",
      "metadata": {
        "id": "ISkDoGuPM1iO"
      },
      "source": [
        "import keras\n",
        "import tensorflow\n",
        "#모델링 설계\n",
        "#seed값 고정\n",
        "tensorflow.random.set_seed(2)\n",
        "model = keras.Sequential()\n",
        "model.add(keras.layers.Conv2D(128, kernel_size=(3,3), activation='relu', kernel_initializer='he_uniform', input_shape=(128,128,3)))\n",
        "model.add(keras.layers.MaxPooling2D(padding='SAME'))\n",
        "model.add(keras.layers.Dropout(0.2))\n",
        "model.add(keras.layers.Flatten())\n",
        "model.add(keras.layers.Dense(256, activation='relu', kernel_initializer='he_uniform'))\n",
        "model.add(keras.layers.Dropout(0.2))\n",
        "model.add(keras.layers.Dense(128, activation='relu', kernel_initializer='he_uniform'))\n",
        "model.add(keras.layers.Dense(1, activation='sigmoid'))"
      ],
      "execution_count": 41,
      "outputs": []
    },
    {
      "cell_type": "code",
      "metadata": {
        "id": "Ha08LuZINC7-",
        "colab": {
          "base_uri": "https://localhost:8080/"
        },
        "outputId": "6b1976bc-606a-48ee-e65f-bd18dd9fe108"
      },
      "source": [
        "#모델 summary 확인\n",
        "model.summary()"
      ],
      "execution_count": 42,
      "outputs": [
        {
          "output_type": "stream",
          "name": "stdout",
          "text": [
            "Model: \"sequential_4\"\n",
            "_________________________________________________________________\n",
            " Layer (type)                Output Shape              Param #   \n",
            "=================================================================\n",
            " conv2d_4 (Conv2D)           (None, 126, 126, 128)     3584      \n",
            "                                                                 \n",
            " max_pooling2d_4 (MaxPooling  (None, 63, 63, 128)      0         \n",
            " 2D)                                                             \n",
            "                                                                 \n",
            " dropout_8 (Dropout)         (None, 63, 63, 128)       0         \n",
            "                                                                 \n",
            " flatten_4 (Flatten)         (None, 508032)            0         \n",
            "                                                                 \n",
            " dense_12 (Dense)            (None, 256)               130056448 \n",
            "                                                                 \n",
            " dropout_9 (Dropout)         (None, 256)               0         \n",
            "                                                                 \n",
            " dense_13 (Dense)            (None, 128)               32896     \n",
            "                                                                 \n",
            " dense_14 (Dense)            (None, 1)                 129       \n",
            "                                                                 \n",
            "=================================================================\n",
            "Total params: 130,093,057\n",
            "Trainable params: 130,093,057\n",
            "Non-trainable params: 0\n",
            "_________________________________________________________________\n"
          ]
        }
      ]
    },
    {
      "cell_type": "code",
      "metadata": {
        "id": "0qrpevfsfv1b"
      },
      "source": [
        "import tensorflow\n",
        "from tensorflow.keras.optimizers import Adam\n",
        "#모델 컴파일\n",
        "model.compile(loss='binary_crossentropy',\n",
        "              optimizer = Adam(learning_rate=0.01), \n",
        "              metrics=['accuracy'])\n"
      ],
      "execution_count": 43,
      "outputs": []
    },
    {
      "cell_type": "code",
      "metadata": {
        "colab": {
          "base_uri": "https://localhost:8080/"
        },
        "id": "H0dVBkYQNGIu",
        "outputId": "be6546dd-b41e-46bc-e453-167b36f2b6b9"
      },
      "source": [
        "#모델 학습\n",
        "history = model.fit(\n",
        "            train_scaled, target, \n",
        "            batch_size = 32,\n",
        "            epochs = 28\n",
        "\n",
        "           \n",
        "                    )"
      ],
      "execution_count": 44,
      "outputs": [
        {
          "output_type": "stream",
          "name": "stdout",
          "text": [
            "Epoch 1/28\n",
            "16/16 [==============================] - 1s 34ms/step - loss: 640.7506 - accuracy: 0.5629\n",
            "Epoch 2/28\n",
            "16/16 [==============================] - 1s 32ms/step - loss: 22.4944 - accuracy: 0.5369\n",
            "Epoch 3/28\n",
            "16/16 [==============================] - 1s 33ms/step - loss: 1.6787 - accuracy: 0.5968\n",
            "Epoch 4/28\n",
            "16/16 [==============================] - 1s 32ms/step - loss: 0.5842 - accuracy: 0.7505\n",
            "Epoch 5/28\n",
            "16/16 [==============================] - 1s 32ms/step - loss: 0.3193 - accuracy: 0.8802\n",
            "Epoch 6/28\n",
            "16/16 [==============================] - 1s 32ms/step - loss: 0.2480 - accuracy: 0.9062\n",
            "Epoch 7/28\n",
            "16/16 [==============================] - 1s 32ms/step - loss: 0.2276 - accuracy: 0.9321\n",
            "Epoch 8/28\n",
            "16/16 [==============================] - 1s 32ms/step - loss: 0.2141 - accuracy: 0.9301\n",
            "Epoch 9/28\n",
            "16/16 [==============================] - 1s 32ms/step - loss: 0.1967 - accuracy: 0.9261\n",
            "Epoch 10/28\n",
            "16/16 [==============================] - 1s 32ms/step - loss: 0.1826 - accuracy: 0.9242\n",
            "Epoch 11/28\n",
            "16/16 [==============================] - 1s 32ms/step - loss: 0.1649 - accuracy: 0.9361\n",
            "Epoch 12/28\n",
            "16/16 [==============================] - 1s 32ms/step - loss: 0.1816 - accuracy: 0.9341\n",
            "Epoch 13/28\n",
            "16/16 [==============================] - 1s 31ms/step - loss: 0.1327 - accuracy: 0.9501\n",
            "Epoch 14/28\n",
            "16/16 [==============================] - 1s 32ms/step - loss: 0.1240 - accuracy: 0.9561\n",
            "Epoch 15/28\n",
            "16/16 [==============================] - 1s 32ms/step - loss: 0.1000 - accuracy: 0.9701\n",
            "Epoch 16/28\n",
            "16/16 [==============================] - 1s 32ms/step - loss: 0.0792 - accuracy: 0.9760\n",
            "Epoch 17/28\n",
            "16/16 [==============================] - 1s 32ms/step - loss: 0.0717 - accuracy: 0.9780\n",
            "Epoch 18/28\n",
            "16/16 [==============================] - 0s 31ms/step - loss: 0.0503 - accuracy: 0.9920\n",
            "Epoch 19/28\n",
            "16/16 [==============================] - 1s 32ms/step - loss: 0.0816 - accuracy: 0.9780\n",
            "Epoch 20/28\n",
            "16/16 [==============================] - 1s 32ms/step - loss: 0.0524 - accuracy: 0.9840\n",
            "Epoch 21/28\n",
            "16/16 [==============================] - 1s 32ms/step - loss: 0.0408 - accuracy: 0.9920\n",
            "Epoch 22/28\n",
            "16/16 [==============================] - 1s 32ms/step - loss: 0.0418 - accuracy: 0.9860\n",
            "Epoch 23/28\n",
            "16/16 [==============================] - 1s 32ms/step - loss: 0.0281 - accuracy: 0.9920\n",
            "Epoch 24/28\n",
            "16/16 [==============================] - 1s 32ms/step - loss: 0.0482 - accuracy: 0.9880\n",
            "Epoch 25/28\n",
            "16/16 [==============================] - 1s 32ms/step - loss: 0.0283 - accuracy: 0.9920\n",
            "Epoch 26/28\n",
            "16/16 [==============================] - 1s 32ms/step - loss: 0.0249 - accuracy: 0.9920\n",
            "Epoch 27/28\n",
            "16/16 [==============================] - 1s 32ms/step - loss: 0.0297 - accuracy: 0.9880\n",
            "Epoch 28/28\n",
            "16/16 [==============================] - 1s 32ms/step - loss: 0.0206 - accuracy: 0.9960\n"
          ]
        }
      ]
    },
    {
      "cell_type": "code",
      "metadata": {
        "id": "fD6u0-Z5PXwx"
      },
      "source": [
        "#테스트_data 불러오기\n",
        "test_target_table=pd.read_csv('/gdrive/MyDrive/SyntekaBio/test_output_sample.csv').to_numpy()\n",
        "test_target=target_table[:,1:].astype(float)\n",
        "test_data =(sorted(glob.glob('/gdrive/MyDrive/SyntekaBio/test/PNG/*.png')))"
      ],
      "execution_count": 45,
      "outputs": []
    },
    {
      "cell_type": "code",
      "metadata": {
        "id": "axHLq043OE7I"
      },
      "source": [
        "#테스트 게이터 사이즈 축소 및 전처리\n",
        "for i in range (len(test_data)):\n",
        "  test_data[i]=cv2.imread(test_data[i])\n",
        "  test_data[i]=cv2.resize(test_data[i],dsize=(128, 128),interpolation=cv2.INTER_AREA).astype(np.float32)/255\n",
        "test_scaled=np.array(test_data)"
      ],
      "execution_count": 46,
      "outputs": []
    },
    {
      "cell_type": "markdown",
      "metadata": {
        "id": "0yDOvIQUQxxg"
      },
      "source": [
        ""
      ]
    },
    {
      "cell_type": "code",
      "metadata": {
        "id": "nLYasUlsOWCI",
        "colab": {
          "base_uri": "https://localhost:8080/"
        },
        "outputId": "cec1ff7f-6524-46af-8bf3-833e5272717a"
      },
      "source": [
        "#전처리된 데이터 구조 확인\n",
        "test_scaled.shape"
      ],
      "execution_count": 47,
      "outputs": [
        {
          "output_type": "execute_result",
          "data": {
            "text/plain": [
              "(126, 128, 128, 3)"
            ]
          },
          "metadata": {},
          "execution_count": 47
        }
      ]
    },
    {
      "cell_type": "code",
      "metadata": {
        "id": "3Q27TuuMOiPh",
        "colab": {
          "base_uri": "https://localhost:8080/"
        },
        "outputId": "ea440649-7e9a-4efa-ba6a-01a5fed46976"
      },
      "source": [
        "모델예측 및 확인\n",
        "pred=(model.predict(test_scaled))\n",
        "pred[1:3]"
      ],
      "execution_count": 48,
      "outputs": [
        {
          "output_type": "execute_result",
          "data": {
            "text/plain": [
              "array([[0.9963218 ],\n",
              "       [0.00483535]], dtype=float32)"
            ]
          },
          "metadata": {},
          "execution_count": 48
        }
      ]
    },
    {
      "cell_type": "code",
      "metadata": {
        "id": "ea7w1KDLO0RB"
      },
      "source": [
        "#값을 0또는 1로 표시하도록 함수선언\n",
        "def binary_classification(self):\n",
        "  for i in range (len(self)):\n",
        "    if pred[i]<0.5:\n",
        "      pred[i]=int(0)\n",
        "    else:\n",
        "      pred[i]=int(1)"
      ],
      "execution_count": 49,
      "outputs": []
    },
    {
      "cell_type": "code",
      "metadata": {
        "id": "9Gfc2olgf9FS"
      },
      "source": [
        "# 선언한 함수를 사용해서 예측\n",
        "binary_classification(pred)"
      ],
      "execution_count": 53,
      "outputs": []
    },
    {
      "cell_type": "code",
      "metadata": {
        "id": "ZDu-TNwOhUZC",
        "colab": {
          "base_uri": "https://localhost:8080/",
          "height": 419
        },
        "outputId": "db6567a6-24b7-43b2-d36c-8c83f33f0956"
      },
      "source": [
        "#csv파일에 target값 입력\n",
        "test_target=pd.read_csv('/gdrive/MyDrive/SyntekaBio/test_output_sample.csv')\n",
        "test_target.iloc[:,1]=pred\n",
        "test_target"
      ],
      "execution_count": 51,
      "outputs": [
        {
          "output_type": "execute_result",
          "data": {
            "text/html": [
              "<div>\n",
              "<style scoped>\n",
              "    .dataframe tbody tr th:only-of-type {\n",
              "        vertical-align: middle;\n",
              "    }\n",
              "\n",
              "    .dataframe tbody tr th {\n",
              "        vertical-align: top;\n",
              "    }\n",
              "\n",
              "    .dataframe thead th {\n",
              "        text-align: right;\n",
              "    }\n",
              "</style>\n",
              "<table border=\"1\" class=\"dataframe\">\n",
              "  <thead>\n",
              "    <tr style=\"text-align: right;\">\n",
              "      <th></th>\n",
              "      <th>Sample ID</th>\n",
              "      <th>Control:0/Case:1</th>\n",
              "    </tr>\n",
              "  </thead>\n",
              "  <tbody>\n",
              "    <tr>\n",
              "      <th>0</th>\n",
              "      <td>AZ-004</td>\n",
              "      <td>0.0</td>\n",
              "    </tr>\n",
              "    <tr>\n",
              "      <th>1</th>\n",
              "      <td>AZ-005</td>\n",
              "      <td>1.0</td>\n",
              "    </tr>\n",
              "    <tr>\n",
              "      <th>2</th>\n",
              "      <td>AZ-018</td>\n",
              "      <td>0.0</td>\n",
              "    </tr>\n",
              "    <tr>\n",
              "      <th>3</th>\n",
              "      <td>AZ-020</td>\n",
              "      <td>1.0</td>\n",
              "    </tr>\n",
              "    <tr>\n",
              "      <th>4</th>\n",
              "      <td>AZ-021</td>\n",
              "      <td>0.0</td>\n",
              "    </tr>\n",
              "    <tr>\n",
              "      <th>...</th>\n",
              "      <td>...</td>\n",
              "      <td>...</td>\n",
              "    </tr>\n",
              "    <tr>\n",
              "      <th>121</th>\n",
              "      <td>AZ-779</td>\n",
              "      <td>0.0</td>\n",
              "    </tr>\n",
              "    <tr>\n",
              "      <th>122</th>\n",
              "      <td>AZ-783</td>\n",
              "      <td>1.0</td>\n",
              "    </tr>\n",
              "    <tr>\n",
              "      <th>123</th>\n",
              "      <td>AZ-795</td>\n",
              "      <td>0.0</td>\n",
              "    </tr>\n",
              "    <tr>\n",
              "      <th>124</th>\n",
              "      <td>AZ-800</td>\n",
              "      <td>1.0</td>\n",
              "    </tr>\n",
              "    <tr>\n",
              "      <th>125</th>\n",
              "      <td>AZ-802</td>\n",
              "      <td>0.0</td>\n",
              "    </tr>\n",
              "  </tbody>\n",
              "</table>\n",
              "<p>126 rows × 2 columns</p>\n",
              "</div>"
            ],
            "text/plain": [
              "    Sample ID  Control:0/Case:1\n",
              "0      AZ-004               0.0\n",
              "1      AZ-005               1.0\n",
              "2      AZ-018               0.0\n",
              "3      AZ-020               1.0\n",
              "4      AZ-021               0.0\n",
              "..        ...               ...\n",
              "121    AZ-779               0.0\n",
              "122    AZ-783               1.0\n",
              "123    AZ-795               0.0\n",
              "124    AZ-800               1.0\n",
              "125    AZ-802               0.0\n",
              "\n",
              "[126 rows x 2 columns]"
            ]
          },
          "metadata": {},
          "execution_count": 51
        }
      ]
    },
    {
      "cell_type": "code",
      "metadata": {
        "id": "yMgmlcKai4dS"
      },
      "source": [
        "#csv파일로 해당 경로에 저장\n",
        "test_target.to_csv('/gdrive/MyDrive/SyntekaBio/test_target.csv',index=False)"
      ],
      "execution_count": 52,
      "outputs": []
    }
  ]
}