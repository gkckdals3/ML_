{
  "nbformat": 4,
  "nbformat_minor": 0,
  "metadata": {
    "colab": {
      "name": "경진대회.ipynb",
      "provenance": [],
      "collapsed_sections": [],
      "mount_file_id": "1UhTrXt985t5ptIAIelNIEMBoOoat6WYz",
      "authorship_tag": "ABX9TyNJ2O4lyu6ovv3I0YuBTlim",
      "include_colab_link": true
    },
    "kernelspec": {
      "name": "python3",
      "display_name": "Python 3"
    },
    "language_info": {
      "name": "python"
    },
    "accelerator": "GPU"
  },
  "cells": [
    {
      "cell_type": "markdown",
      "metadata": {
        "id": "view-in-github",
        "colab_type": "text"
      },
      "source": [
        "<a href=\"https://colab.research.google.com/github/gkckdals3/ML_/blob/main/%EA%B2%BD%EC%A7%84%EB%8C%80%ED%9A%8C(train_data%20%EC%A0%84%EC%B2%B4%20%ED%95%99%EC%8A%B5)%20.ipynb\" target=\"_parent\"><img src=\"https://colab.research.google.com/assets/colab-badge.svg\" alt=\"Open In Colab\"/></a>"
      ]
    },
    {
      "cell_type": "code",
      "metadata": {
        "id": "IruI6Dc5AYew"
      },
      "source": [
        "import numpy as np\n",
        "import cv2"
      ],
      "execution_count": null,
      "outputs": []
    },
    {
      "cell_type": "code",
      "metadata": {
        "colab": {
          "base_uri": "https://localhost:8080/"
        },
        "id": "HnRN6jh-Blif",
        "outputId": "d557a1a4-f4f1-44ea-aa5f-65984bc9f74e"
      },
      "source": [
        "import glob\n",
        "from google.colab import drive\n",
        "import pandas as pd\n",
        "drive.mount('/gdrive', force_remount=True)\n",
        "#train 타겟값 target에 저장\n",
        "target_table=pd.read_csv('/gdrive/MyDrive/SyntekaBio/train_output.csv').to_numpy()\n",
        "target=target_table[:,1:].astype(float)\n",
        "train_data =(sorted(glob.glob('/gdrive/MyDrive/SyntekaBio/train/PNG/*.png')))"
      ],
      "execution_count": null,
      "outputs": [
        {
          "output_type": "stream",
          "name": "stdout",
          "text": [
            "Mounted at /gdrive\n"
          ]
        }
      ]
    },
    {
      "cell_type": "code",
      "metadata": {
        "id": "J9DFtkxZB5cu"
      },
      "source": [
        "#전체 데이터 불러오기/데이터 10분에 1로 축소\n",
        "for i in range (len(train_data)):\n",
        "  train_data[i]=cv2.imread(train_data[i])\n",
        "  train_data[i]=cv2.resize(train_data[i],dsize=(128, 128),interpolation=cv2.INTER_AREA)\n",
        "  train_data[i]=train_data[i].astype(np.float32)/255\n",
        "train_scaled=np.array(train_data)\n",
        "train_data=np.array(train_data)"
      ],
      "execution_count": null,
      "outputs": []
    },
    {
      "cell_type": "code",
      "metadata": {
        "colab": {
          "base_uri": "https://localhost:8080/"
        },
        "id": "clgdOjT-_v0T",
        "outputId": "b8d977af-96ff-43f6-dc84-0f7745fd461c"
      },
      "source": [
        "from tensorflow import keras\n",
        "from sklearn.model_selection import train_test_split\n",
        "\n",
        "train_scaled,val_scaled,train_target,val_target=train_test_split(train_scaled,target,test_size=0.2,random_state=5)\n",
        "print('학습 데이터 shape : ', train_scaled.shape)\n",
        "print('검증 데이터 shape : ', val_scaled.shape)\n",
        "print('학습 타겟 shape : ', train_target.shape)\n",
        "print('검증 타겟 shape : ', val_target.shape)"
      ],
      "execution_count": null,
      "outputs": [
        {
          "output_type": "stream",
          "name": "stdout",
          "text": [
            "학습 데이터 shape :  (400, 128, 128, 3)\n",
            "검증 데이터 shape :  (101, 128, 128, 3)\n",
            "학습 타겟 shape :  (400, 1)\n",
            "검증 타겟 shape :  (101, 1)\n"
          ]
        }
      ]
    },
    {
      "cell_type": "code",
      "metadata": {
        "id": "ISkDoGuPM1iO"
      },
      "source": [
        "import keras\n",
        "model = keras.Sequential()\n",
        "model.add(keras.layers.Conv2D(128, kernel_size=(3,3), activation='relu', kernel_initializer='he_uniform', input_shape=(128,128,3)))\n",
        "model.add(keras.layers.MaxPooling2D(padding='SAME'))\n",
        "model.add(keras.layers.Dropout(0.2))\n",
        "model.add(keras.layers.Flatten())\n",
        "model.add(keras.layers.Dense(256, activation='relu', kernel_initializer='he_uniform'))\n",
        "model.add(keras.layers.Dropout(0.2))\n",
        "model.add(keras.layers.Dense(128, activation='relu', kernel_initializer='he_uniform'))\n",
        "model.add(keras.layers.Dense(1, activation='sigmoid'))"
      ],
      "execution_count": null,
      "outputs": []
    },
    {
      "cell_type": "code",
      "metadata": {
        "id": "Ha08LuZINC7-",
        "colab": {
          "base_uri": "https://localhost:8080/"
        },
        "outputId": "647d8c48-cde1-4c8e-f9bf-9f2b69506ea6"
      },
      "source": [
        "model.summary()"
      ],
      "execution_count": null,
      "outputs": [
        {
          "output_type": "stream",
          "name": "stdout",
          "text": [
            "Model: \"sequential\"\n",
            "_________________________________________________________________\n",
            "Layer (type)                 Output Shape              Param #   \n",
            "=================================================================\n",
            "conv2d (Conv2D)              (None, 126, 126, 128)     3584      \n",
            "_________________________________________________________________\n",
            "max_pooling2d (MaxPooling2D) (None, 63, 63, 128)       0         \n",
            "_________________________________________________________________\n",
            "dropout (Dropout)            (None, 63, 63, 128)       0         \n",
            "_________________________________________________________________\n",
            "flatten (Flatten)            (None, 508032)            0         \n",
            "_________________________________________________________________\n",
            "dense (Dense)                (None, 256)               130056448 \n",
            "_________________________________________________________________\n",
            "dropout_1 (Dropout)          (None, 256)               0         \n",
            "_________________________________________________________________\n",
            "dense_1 (Dense)              (None, 128)               32896     \n",
            "_________________________________________________________________\n",
            "dense_2 (Dense)              (None, 1)                 129       \n",
            "=================================================================\n",
            "Total params: 130,093,057\n",
            "Trainable params: 130,093,057\n",
            "Non-trainable params: 0\n",
            "_________________________________________________________________\n"
          ]
        }
      ]
    },
    {
      "cell_type": "code",
      "metadata": {
        "id": "0qrpevfsfv1b"
      },
      "source": [
        "import tensorflow\n",
        "from tensorflow.keras.optimizers import Adam\n",
        "model.compile(loss='binary_crossentropy',\n",
        "              optimizer = Adam(learning_rate=0.001), \n",
        "              metrics=['accuracy'])\n"
      ],
      "execution_count": null,
      "outputs": []
    },
    {
      "cell_type": "code",
      "metadata": {
        "colab": {
          "base_uri": "https://localhost:8080/"
        },
        "id": "H0dVBkYQNGIu",
        "outputId": "5982fa58-ac56-4dc1-e525-3992e86ed4e4"
      },
      "source": [
        "history = model.fit(\n",
        "            train_scaled, train_target, \n",
        "            validation_data = (val_scaled,val_target),\n",
        "            batch_size = 32,\n",
        "            epochs = 30\n",
        "           \n",
        "                    )"
      ],
      "execution_count": null,
      "outputs": [
        {
          "output_type": "stream",
          "name": "stdout",
          "text": [
            "Epoch 1/30\n",
            "13/13 [==============================] - 1s 49ms/step - loss: 100.6710 - accuracy: 0.5275 - val_loss: 22.2788 - val_accuracy: 0.6634\n",
            "Epoch 2/30\n",
            "13/13 [==============================] - 0s 35ms/step - loss: 29.9234 - accuracy: 0.5250 - val_loss: 12.2980 - val_accuracy: 0.6634\n",
            "Epoch 3/30\n",
            "13/13 [==============================] - 0s 34ms/step - loss: 16.9701 - accuracy: 0.5475 - val_loss: 19.8017 - val_accuracy: 0.3366\n",
            "Epoch 4/30\n",
            "13/13 [==============================] - 0s 34ms/step - loss: 13.0030 - accuracy: 0.5850 - val_loss: 4.8656 - val_accuracy: 0.6634\n",
            "Epoch 5/30\n",
            "13/13 [==============================] - 0s 36ms/step - loss: 6.1857 - accuracy: 0.6400 - val_loss: 2.3620 - val_accuracy: 0.3366\n",
            "Epoch 6/30\n",
            "13/13 [==============================] - 0s 34ms/step - loss: 5.0975 - accuracy: 0.6275 - val_loss: 2.3255 - val_accuracy: 0.6634\n",
            "Epoch 7/30\n",
            "13/13 [==============================] - 0s 35ms/step - loss: 2.7569 - accuracy: 0.6625 - val_loss: 0.6276 - val_accuracy: 0.7228\n",
            "Epoch 8/30\n",
            "13/13 [==============================] - 0s 33ms/step - loss: 1.9210 - accuracy: 0.7675 - val_loss: 0.7975 - val_accuracy: 0.5545\n",
            "Epoch 9/30\n",
            "13/13 [==============================] - 0s 35ms/step - loss: 0.6741 - accuracy: 0.8525 - val_loss: 0.4161 - val_accuracy: 0.8020\n",
            "Epoch 10/30\n",
            "13/13 [==============================] - 0s 35ms/step - loss: 0.2218 - accuracy: 0.9400 - val_loss: 0.2566 - val_accuracy: 0.8713\n",
            "Epoch 11/30\n",
            "13/13 [==============================] - 0s 33ms/step - loss: 0.1629 - accuracy: 0.9600 - val_loss: 0.1273 - val_accuracy: 0.9406\n",
            "Epoch 12/30\n",
            "13/13 [==============================] - 0s 35ms/step - loss: 0.1418 - accuracy: 0.9625 - val_loss: 0.3562 - val_accuracy: 0.8812\n",
            "Epoch 13/30\n",
            "13/13 [==============================] - 0s 35ms/step - loss: 0.4165 - accuracy: 0.9150 - val_loss: 0.0982 - val_accuracy: 0.9703\n",
            "Epoch 14/30\n",
            "13/13 [==============================] - 0s 34ms/step - loss: 0.3175 - accuracy: 0.9200 - val_loss: 0.4397 - val_accuracy: 0.8020\n",
            "Epoch 15/30\n",
            "13/13 [==============================] - 0s 37ms/step - loss: 0.1703 - accuracy: 0.9475 - val_loss: 0.1193 - val_accuracy: 0.9703\n",
            "Epoch 16/30\n",
            "13/13 [==============================] - 0s 34ms/step - loss: 0.1251 - accuracy: 0.9600 - val_loss: 0.2686 - val_accuracy: 0.9109\n",
            "Epoch 17/30\n",
            "13/13 [==============================] - 0s 35ms/step - loss: 0.1410 - accuracy: 0.9450 - val_loss: 0.0381 - val_accuracy: 0.9802\n",
            "Epoch 18/30\n",
            "13/13 [==============================] - 0s 35ms/step - loss: 0.0774 - accuracy: 0.9725 - val_loss: 0.0805 - val_accuracy: 0.9703\n",
            "Epoch 19/30\n",
            "13/13 [==============================] - 0s 34ms/step - loss: 0.0402 - accuracy: 0.9850 - val_loss: 0.2134 - val_accuracy: 0.9109\n",
            "Epoch 20/30\n",
            "13/13 [==============================] - 0s 33ms/step - loss: 0.0344 - accuracy: 0.9850 - val_loss: 0.0538 - val_accuracy: 0.9802\n",
            "Epoch 21/30\n",
            "13/13 [==============================] - 0s 37ms/step - loss: 0.0097 - accuracy: 0.9975 - val_loss: 0.0281 - val_accuracy: 0.9802\n",
            "Epoch 22/30\n",
            "13/13 [==============================] - 0s 34ms/step - loss: 0.0158 - accuracy: 0.9925 - val_loss: 0.0200 - val_accuracy: 1.0000\n",
            "Epoch 23/30\n",
            "13/13 [==============================] - 0s 35ms/step - loss: 0.0133 - accuracy: 0.9925 - val_loss: 0.0225 - val_accuracy: 1.0000\n",
            "Epoch 24/30\n",
            "13/13 [==============================] - 0s 37ms/step - loss: 0.0126 - accuracy: 0.9950 - val_loss: 0.0314 - val_accuracy: 0.9901\n",
            "Epoch 25/30\n",
            "13/13 [==============================] - 0s 36ms/step - loss: 0.0225 - accuracy: 0.9900 - val_loss: 0.0344 - val_accuracy: 0.9802\n",
            "Epoch 26/30\n",
            "13/13 [==============================] - 0s 34ms/step - loss: 0.0089 - accuracy: 0.9975 - val_loss: 0.0746 - val_accuracy: 0.9703\n",
            "Epoch 27/30\n",
            "13/13 [==============================] - 0s 35ms/step - loss: 0.0096 - accuracy: 0.9975 - val_loss: 0.0929 - val_accuracy: 0.9604\n",
            "Epoch 28/30\n",
            "13/13 [==============================] - 0s 35ms/step - loss: 0.0127 - accuracy: 0.9950 - val_loss: 0.0214 - val_accuracy: 1.0000\n",
            "Epoch 29/30\n",
            "13/13 [==============================] - 0s 33ms/step - loss: 0.0040 - accuracy: 1.0000 - val_loss: 0.0205 - val_accuracy: 0.9901\n",
            "Epoch 30/30\n",
            "13/13 [==============================] - 0s 34ms/step - loss: 0.0165 - accuracy: 0.9950 - val_loss: 0.1450 - val_accuracy: 0.9703\n"
          ]
        }
      ]
    },
    {
      "cell_type": "code",
      "metadata": {
        "colab": {
          "base_uri": "https://localhost:8080/"
        },
        "id": "V7yngMI5HF7p",
        "outputId": "dc48b5d5-13b1-4a9a-bfc6-c1d200b7aa78"
      },
      "source": [
        "model.evaluate(val_scaled,val_target)"
      ],
      "execution_count": null,
      "outputs": [
        {
          "output_type": "stream",
          "name": "stdout",
          "text": [
            "4/4 [==============================] - 0s 10ms/step - loss: 0.1450 - accuracy: 0.9703\n"
          ]
        },
        {
          "output_type": "execute_result",
          "data": {
            "text/plain": [
              "[0.1450355052947998, 0.9702970385551453]"
            ]
          },
          "metadata": {},
          "execution_count": 236
        }
      ]
    },
    {
      "cell_type": "code",
      "metadata": {
        "colab": {
          "base_uri": "https://localhost:8080/",
          "height": 542
        },
        "id": "CSs0cccGH5Lh",
        "outputId": "82463ba6-e568-4a0d-b8c8-2ba7f5d3fe95"
      },
      "source": [
        "import matplotlib.pyplot as plt\n",
        "plt.plot((history.history['loss'][2:]))\n",
        "plt.plot((history.history['val_loss'][4:]))\n",
        "plt.xlabel('epoch')\n",
        "plt.ylabel('loss')\n",
        "plt.legend(['train','target'])\n",
        "plt.show()\n",
        "\n",
        "plt.plot(history.history['accuracy'])\n",
        "plt.plot(history.history['val_accuracy'])\n",
        "plt.xlabel('epoch')\n",
        "plt.ylabel('accuracy')\n",
        "plt.legend(['train','target'])\n",
        "\n",
        "plt.show()"
      ],
      "execution_count": null,
      "outputs": [
        {
          "output_type": "display_data",
          "data": {
            "image/png": "[encoded data removed]",
            "text/plain": [
              "<Figure size 432x288 with 1 Axes>"
            ]
          },
          "metadata": {
            "needs_background": "light"
          }
        },
        {
          "output_type": "display_data",
          "data": {
            "image/png": "[encoded data removed]",
            "text/plain": [
              "<Figure size 432x288 with 1 Axes>"
            ]
          },
          "metadata": {
            "needs_background": "light"
          }
        }
      ]
    },
    {
      "cell_type": "code",
      "metadata": {
        "id": "UDNbi10HNQ_y",
        "colab": {
          "base_uri": "https://localhost:8080/"
        },
        "outputId": "58142426-eb9b-4fa8-f9fb-c74f927e57c3"
      },
      "source": [
        "history= model.fit(\n",
        "            train_data,target, \n",
        "            batch_size = 32,\n",
        "            epochs = 28\n",
        "                    )"
      ],
      "execution_count": null,
      "outputs": [
        {
          "output_type": "stream",
          "name": "stdout",
          "text": [
            "Epoch 1/28\n",
            "16/16 [==============================] - 5s 34ms/step - loss: 113.5491 - accuracy: 0.5409\n",
            "Epoch 2/28\n",
            "16/16 [==============================] - 0s 30ms/step - loss: 34.5714 - accuracy: 0.5768\n",
            "Epoch 3/28\n",
            "16/16 [==============================] - 0s 30ms/step - loss: 15.3578 - accuracy: 0.5968\n",
            "Epoch 4/28\n",
            "16/16 [==============================] - 0s 30ms/step - loss: 11.7948 - accuracy: 0.5888\n",
            "Epoch 5/28\n",
            "16/16 [==============================] - 0s 30ms/step - loss: 9.2255 - accuracy: 0.5409\n",
            "Epoch 6/28\n",
            "16/16 [==============================] - 0s 30ms/step - loss: 3.3810 - accuracy: 0.6208\n",
            "Epoch 7/28\n",
            "16/16 [==============================] - 0s 30ms/step - loss: 2.1006 - accuracy: 0.6267\n",
            "Epoch 8/28\n",
            "16/16 [==============================] - 0s 30ms/step - loss: 1.2213 - accuracy: 0.7206\n",
            "Epoch 9/28\n",
            "16/16 [==============================] - 0s 30ms/step - loss: 0.5550 - accuracy: 0.8583\n",
            "Epoch 10/28\n",
            "16/16 [==============================] - 0s 30ms/step - loss: 0.3519 - accuracy: 0.9142\n",
            "Epoch 11/28\n",
            "16/16 [==============================] - 0s 29ms/step - loss: 0.2139 - accuracy: 0.9381\n",
            "Epoch 12/28\n",
            "16/16 [==============================] - 0s 30ms/step - loss: 0.1242 - accuracy: 0.9601\n",
            "Epoch 13/28\n",
            "16/16 [==============================] - 0s 30ms/step - loss: 0.1357 - accuracy: 0.9601\n",
            "Epoch 14/28\n",
            "16/16 [==============================] - 0s 30ms/step - loss: 0.1172 - accuracy: 0.9561\n",
            "Epoch 15/28\n",
            "16/16 [==============================] - 0s 30ms/step - loss: 0.3419 - accuracy: 0.8902\n",
            "Epoch 16/28\n",
            "16/16 [==============================] - 0s 29ms/step - loss: 0.0791 - accuracy: 0.9721\n",
            "Epoch 17/28\n",
            "16/16 [==============================] - 0s 29ms/step - loss: 0.0200 - accuracy: 0.9940\n",
            "Epoch 18/28\n",
            "16/16 [==============================] - 0s 29ms/step - loss: 0.0158 - accuracy: 0.9960\n",
            "Epoch 19/28\n",
            "16/16 [==============================] - 0s 30ms/step - loss: 0.0203 - accuracy: 0.9940\n",
            "Epoch 20/28\n",
            "16/16 [==============================] - 0s 30ms/step - loss: 0.0330 - accuracy: 0.9900\n",
            "Epoch 21/28\n",
            "16/16 [==============================] - 0s 30ms/step - loss: 0.0173 - accuracy: 0.9960\n",
            "Epoch 22/28\n",
            "16/16 [==============================] - 0s 29ms/step - loss: 0.0151 - accuracy: 0.9980\n",
            "Epoch 23/28\n",
            "16/16 [==============================] - 0s 30ms/step - loss: 0.0298 - accuracy: 0.9900\n",
            "Epoch 24/28\n",
            "16/16 [==============================] - 0s 30ms/step - loss: 0.0214 - accuracy: 0.9880\n",
            "Epoch 25/28\n",
            "16/16 [==============================] - 0s 30ms/step - loss: 0.0102 - accuracy: 0.9940\n",
            "Epoch 26/28\n",
            "16/16 [==============================] - 0s 29ms/step - loss: 0.0057 - accuracy: 0.9980\n",
            "Epoch 27/28\n",
            "16/16 [==============================] - 0s 30ms/step - loss: 0.0135 - accuracy: 0.9920\n",
            "Epoch 28/28\n",
            "16/16 [==============================] - 0s 29ms/step - loss: 0.0143 - accuracy: 0.9940\n"
          ]
        }
      ]
    },
    {
      "cell_type": "code",
      "metadata": {
        "id": "fD6u0-Z5PXwx"
      },
      "source": [
        "test_target_table=pd.read_csv('/gdrive/MyDrive/SyntekaBio/test_output_sample.csv').to_numpy()\n",
        "test_target=target_table[:,1:].astype(float)\n",
        "test_data =(sorted(glob.glob('/gdrive/MyDrive/SyntekaBio/test/PNG/*.png')))"
      ],
      "execution_count": null,
      "outputs": []
    },
    {
      "cell_type": "code",
      "metadata": {
        "id": "axHLq043OE7I"
      },
      "source": [
        "for i in range (len(test_data)):\n",
        "  test_data[i]=cv2.imread(test_data[i])\n",
        "  test_data[i]=cv2.resize(test_data[i],dsize=(128, 128),interpolation=cv2.INTER_AREA).astype(np.float32)/255\n",
        "test_scaled=np.array(test_data)"
      ],
      "execution_count": null,
      "outputs": []
    },
    {
      "cell_type": "markdown",
      "metadata": {
        "id": "0yDOvIQUQxxg"
      },
      "source": [
        ""
      ]
    },
    {
      "cell_type": "code",
      "metadata": {
        "colab": {
          "base_uri": "https://localhost:8080/"
        },
        "id": "nLYasUlsOWCI",
        "outputId": "fdc2b964-88d0-457e-a171-99e06162cb9a"
      },
      "source": [
        "test_scaled.shape"
      ],
      "execution_count": null,
      "outputs": [
        {
          "output_type": "execute_result",
          "data": {
            "text/plain": [
              "(126, 128, 128, 3)"
            ]
          },
          "metadata": {},
          "execution_count": 11
        }
      ]
    },
    {
      "cell_type": "code",
      "metadata": {
        "colab": {
          "base_uri": "https://localhost:8080/"
        },
        "id": "3Q27TuuMOiPh",
        "outputId": "2950d885-8552-46e5-d0ad-cccc0722604c"
      },
      "source": [
        "pred=(model.predict(test_scaled))\n",
        "pred[1:3]"
      ],
      "execution_count": null,
      "outputs": [
        {
          "output_type": "execute_result",
          "data": {
            "text/plain": [
              "array([[9.999845e-01],\n",
              "       [8.835311e-06]], dtype=float32)"
            ]
          },
          "metadata": {},
          "execution_count": 22
        }
      ]
    },
    {
      "cell_type": "code",
      "metadata": {
        "id": "ea7w1KDLO0RB"
      },
      "source": [
        "def binary_classification(self):\n",
        "  for i in range (len(self)):\n",
        "    if pred[i]<0.5:\n",
        "      pred[i]=int(0)\n",
        "    else:\n",
        "      pred[i]=int(1)"
      ],
      "execution_count": null,
      "outputs": []
    },
    {
      "cell_type": "code",
      "metadata": {
        "id": "N-So3WupTQ2r"
      },
      "source": [
        "binary_classification(pred)"
      ],
      "execution_count": null,
      "outputs": []
    },
    {
      "cell_type": "code",
      "metadata": {
        "colab": {
          "base_uri": "https://localhost:8080/",
          "height": 419
        },
        "id": "9Gfc2olgf9FS",
        "outputId": "89ee1534-c597-4120-feb7-4d3f645d159a"
      },
      "source": [
        "test_target=pd.read_csv('/gdrive/MyDrive/SyntekaBio/test_output_sample.csv')\n",
        "test_target.iloc[:,1]=pred\n",
        "test_target"
      ],
      "execution_count": null,
      "outputs": [
        {
          "output_type": "execute_result",
          "data": {
            "text/html": [
              "<div>\n",
              "<style scoped>\n",
              "    .dataframe tbody tr th:only-of-type {\n",
              "        vertical-align: middle;\n",
              "    }\n",
              "\n",
              "    .dataframe tbody tr th {\n",
              "        vertical-align: top;\n",
              "    }\n",
              "\n",
              "    .dataframe thead th {\n",
              "        text-align: right;\n",
              "    }\n",
              "</style>\n",
              "<table border=\"1\" class=\"dataframe\">\n",
              "  <thead>\n",
              "    <tr style=\"text-align: right;\">\n",
              "      <th></th>\n",
              "      <th>Sample ID</th>\n",
              "      <th>Control:0/Case:1</th>\n",
              "    </tr>\n",
              "  </thead>\n",
              "  <tbody>\n",
              "    <tr>\n",
              "      <th>0</th>\n",
              "      <td>AZ-004</td>\n",
              "      <td>1.0</td>\n",
              "    </tr>\n",
              "    <tr>\n",
              "      <th>1</th>\n",
              "      <td>AZ-005</td>\n",
              "      <td>1.0</td>\n",
              "    </tr>\n",
              "    <tr>\n",
              "      <th>2</th>\n",
              "      <td>AZ-018</td>\n",
              "      <td>0.0</td>\n",
              "    </tr>\n",
              "    <tr>\n",
              "      <th>3</th>\n",
              "      <td>AZ-020</td>\n",
              "      <td>1.0</td>\n",
              "    </tr>\n",
              "    <tr>\n",
              "      <th>4</th>\n",
              "      <td>AZ-021</td>\n",
              "      <td>0.0</td>\n",
              "    </tr>\n",
              "    <tr>\n",
              "      <th>...</th>\n",
              "      <td>...</td>\n",
              "      <td>...</td>\n",
              "    </tr>\n",
              "    <tr>\n",
              "      <th>121</th>\n",
              "      <td>AZ-779</td>\n",
              "      <td>0.0</td>\n",
              "    </tr>\n",
              "    <tr>\n",
              "      <th>122</th>\n",
              "      <td>AZ-783</td>\n",
              "      <td>1.0</td>\n",
              "    </tr>\n",
              "    <tr>\n",
              "      <th>123</th>\n",
              "      <td>AZ-795</td>\n",
              "      <td>1.0</td>\n",
              "    </tr>\n",
              "    <tr>\n",
              "      <th>124</th>\n",
              "      <td>AZ-800</td>\n",
              "      <td>1.0</td>\n",
              "    </tr>\n",
              "    <tr>\n",
              "      <th>125</th>\n",
              "      <td>AZ-802</td>\n",
              "      <td>0.0</td>\n",
              "    </tr>\n",
              "  </tbody>\n",
              "</table>\n",
              "<p>126 rows × 2 columns</p>\n",
              "</div>"
            ],
            "text/plain": [
              "    Sample ID  Control:0/Case:1\n",
              "0      AZ-004               1.0\n",
              "1      AZ-005               1.0\n",
              "2      AZ-018               0.0\n",
              "3      AZ-020               1.0\n",
              "4      AZ-021               0.0\n",
              "..        ...               ...\n",
              "121    AZ-779               0.0\n",
              "122    AZ-783               1.0\n",
              "123    AZ-795               1.0\n",
              "124    AZ-800               1.0\n",
              "125    AZ-802               0.0\n",
              "\n",
              "[126 rows x 2 columns]"
            ]
          },
          "metadata": {},
          "execution_count": 51
        }
      ]
    },
    {
      "cell_type": "code",
      "metadata": {
        "id": "ZDu-TNwOhUZC"
      },
      "source": [
        "test_target.to_csv('/gdrive/MyDrive/SyntekaBio/test_target.csv',index=False)"
      ],
      "execution_count": null,
      "outputs": []
    },
    {
      "cell_type": "code",
      "metadata": {
        "id": "yMgmlcKai4dS"
      },
      "source": [
        ""
      ],
      "execution_count": null,
      "outputs": []
    }
  ]
}