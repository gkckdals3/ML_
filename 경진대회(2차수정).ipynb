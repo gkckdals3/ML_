{
  "nbformat": 4,
  "nbformat_minor": 0,
  "metadata": {
    "colab": {
      "name": "경진대회.ipynb",
      "provenance": [],
      "machine_shape": "hm",
      "mount_file_id": "1UhTrXt985t5ptIAIelNIEMBoOoat6WYz",
      "authorship_tag": "ABX9TyMtm7faqTAmMIsECusTPZw4",
      "include_colab_link": true
    },
    "kernelspec": {
      "name": "python3",
      "display_name": "Python 3"
    },
    "language_info": {
      "name": "python"
    }
  },
  "cells": [
    {
      "cell_type": "markdown",
      "metadata": {
        "id": "view-in-github",
        "colab_type": "text"
      },
      "source": [
        "<a href=\"https://colab.research.google.com/github/gkckdals3/ML_/blob/main/%EA%B2%BD%EC%A7%84%EB%8C%80%ED%9A%8C(2%EC%B0%A8%EC%88%98%EC%A0%95).ipynb\" target=\"_parent\"><img src=\"https://colab.research.google.com/assets/colab-badge.svg\" alt=\"Open In Colab\"/></a>"
      ]
    },
    {
      "cell_type": "code",
      "metadata": {
        "id": "IruI6Dc5AYew"
      },
      "source": [
        "from keras.preprocessing.image import ImageDataGenerator\n",
        "import numpy as np\n",
        "import cv2"
      ],
      "execution_count": 18,
      "outputs": []
    },
    {
      "cell_type": "code",
      "metadata": {
        "colab": {
          "base_uri": "https://localhost:8080/"
        },
        "id": "HnRN6jh-Blif",
        "outputId": "888dec4e-8c7e-4ac8-a263-0417b8fe4b6b"
      },
      "source": [
        "import glob\n",
        "from google.colab import drive\n",
        "import pandas as pd\n",
        "drive.mount('/gdrive', force_remount=True)\n",
        "#train 타겟값 target에 저장\n",
        "target_table=pd.read_csv('/gdrive/MyDrive/SyntekaBio/train_output.csv').to_numpy()\n",
        "target=target_table[:,1:].astype(float)\n",
        "train_data =(sorted(glob.glob('/gdrive/MyDrive/SyntekaBio/train/PNG/*.png')))\n"
      ],
      "execution_count": 19,
      "outputs": [
        {
          "output_type": "stream",
          "name": "stdout",
          "text": [
            "Mounted at /gdrive\n"
          ]
        }
      ]
    },
    {
      "cell_type": "code",
      "metadata": {
        "id": "J9DFtkxZB5cu",
        "colab": {
          "base_uri": "https://localhost:8080/"
        },
        "outputId": "95b67e6e-e1c6-4a87-e0cb-267ac8399bfa"
      },
      "source": [
        "#전체 데이터 불러오기/데이터 10분에 1로 축소\n",
        "for i in range (len(train_data)):\n",
        "  train_data[i]=cv2.imread(train_data[i])\n",
        "  train_data[i]=cv2.resize(train_data[i],dsize=(128, 128),interpolation=cv2.INTER_AREA)\n",
        "  train_data[i]=train_data[i].astype(np.float32)/255\n",
        "train_scaled=np.array(train_data)\n",
        "train_scaled.shape"
      ],
      "execution_count": 20,
      "outputs": [
        {
          "output_type": "execute_result",
          "data": {
            "text/plain": [
              "(501, 128, 128, 3)"
            ]
          },
          "metadata": {},
          "execution_count": 20
        }
      ]
    },
    {
      "cell_type": "code",
      "metadata": {
        "id": "_dDSYMJpDant"
      },
      "source": [
        "from tensorflow import keras\n",
        "from sklearn.model_selection import train_test_split\n"
      ],
      "execution_count": 21,
      "outputs": []
    },
    {
      "cell_type": "code",
      "metadata": {
        "colab": {
          "base_uri": "https://localhost:8080/"
        },
        "id": "clgdOjT-_v0T",
        "outputId": "bba9f715-329c-41d2-f65a-e6ec9aaf2657"
      },
      "source": [
        "from sklearn.model_selection import train_test_split\n",
        "\n",
        "train_scaled,val_scaled,train_target,val_target=train_test_split(train_scaled,target,test_size=0.2)\n",
        "print('학습 데이터 shape : ', train_scaled.shape)\n",
        "print('검증 데이터 shape : ', val_scaled.shape)\n",
        "print('학습 타겟 shape : ', train_target.shape)\n",
        "print('검증 타겟 shape : ', val_target.shape)"
      ],
      "execution_count": 22,
      "outputs": [
        {
          "output_type": "stream",
          "name": "stdout",
          "text": [
            "학습 데이터 shape :  (400, 128, 128, 3)\n",
            "검증 데이터 shape :  (101, 128, 128, 3)\n",
            "학습 타겟 shape :  (400, 1)\n",
            "검증 타겟 shape :  (101, 1)\n"
          ]
        }
      ]
    },
    {
      "cell_type": "code",
      "metadata": {
        "id": "ISkDoGuPM1iO"
      },
      "source": [
        "import keras\n",
        "model = keras.Sequential()\n",
        "model.add(keras.layers.Conv2D(128, kernel_size=(3,3), activation='relu', kernel_initializer='he_uniform', input_shape=(128,128,3)))\n",
        "model.add(keras.layers.MaxPooling2D(padding='SAME'))\n",
        "model.add(keras.layers.Dropout(0.2))\n",
        "model.add(keras.layers.Flatten())\n",
        "model.add(keras.layers.Dense(256, activation='relu', kernel_initializer='he_uniform'))\n",
        "model.add(keras.layers.Dropout(0.2))\n",
        "model.add(keras.layers.Dense(128, activation='relu', kernel_initializer='he_uniform'))\n",
        "model.add(keras.layers.Dense(1, activation='sigmoid'))"
      ],
      "execution_count": 32,
      "outputs": []
    },
    {
      "cell_type": "code",
      "metadata": {
        "id": "Ha08LuZINC7-",
        "colab": {
          "base_uri": "https://localhost:8080/"
        },
        "outputId": "2a530ca6-d890-4c45-dc69-83b64c19eb5e"
      },
      "source": [
        "model.summary()"
      ],
      "execution_count": 33,
      "outputs": [
        {
          "output_type": "stream",
          "name": "stdout",
          "text": [
            "Model: \"sequential_3\"\n",
            "_________________________________________________________________\n",
            "Layer (type)                 Output Shape              Param #   \n",
            "=================================================================\n",
            "conv2d_3 (Conv2D)            (None, 126, 126, 128)     3584      \n",
            "_________________________________________________________________\n",
            "max_pooling2d_3 (MaxPooling2 (None, 63, 63, 128)       0         \n",
            "_________________________________________________________________\n",
            "dropout_3 (Dropout)          (None, 63, 63, 128)       0         \n",
            "_________________________________________________________________\n",
            "flatten_3 (Flatten)          (None, 508032)            0         \n",
            "_________________________________________________________________\n",
            "dense_9 (Dense)              (None, 256)               130056448 \n",
            "_________________________________________________________________\n",
            "dropout_4 (Dropout)          (None, 256)               0         \n",
            "_________________________________________________________________\n",
            "dense_10 (Dense)             (None, 128)               32896     \n",
            "_________________________________________________________________\n",
            "dense_11 (Dense)             (None, 1)                 129       \n",
            "=================================================================\n",
            "Total params: 130,093,057\n",
            "Trainable params: 130,093,057\n",
            "Non-trainable params: 0\n",
            "_________________________________________________________________\n"
          ]
        }
      ]
    },
    {
      "cell_type": "code",
      "metadata": {
        "id": "0qrpevfsfv1b",
        "colab": {
          "base_uri": "https://localhost:8080/"
        },
        "outputId": "73fb79ac-b3c9-4889-8955-2a012e040765"
      },
      "source": [
        "import tensorflow\n",
        "from tensorflow.keras.optimizers import Adam\n",
        "model.compile(loss='binary_crossentropy',\n",
        "              optimizer = Adam(learning_rate=0.01), \n",
        "              metrics=['accuracy'])\n",
        "print(train_scaled.shape)\n",
        "print(train_target.shape)"
      ],
      "execution_count": 34,
      "outputs": [
        {
          "output_type": "stream",
          "name": "stdout",
          "text": [
            "(400, 128, 128, 3)\n",
            "(400, 1)\n"
          ]
        }
      ]
    },
    {
      "cell_type": "code",
      "metadata": {
        "colab": {
          "base_uri": "https://localhost:8080/"
        },
        "id": "H0dVBkYQNGIu",
        "outputId": "b59d8885-ffa5-42ff-b912-0a1a32f8ec47"
      },
      "source": [
        "history = model.fit(\n",
        "            train_scaled, train_target, \n",
        "            validation_data = (val_scaled,val_target),\n",
        "            batch_size = 32,\n",
        "            epochs = 30\n",
        "                    )"
      ],
      "execution_count": 35,
      "outputs": [
        {
          "output_type": "stream",
          "name": "stdout",
          "text": [
            "Epoch 1/30\n",
            "13/13 [==============================] - 11s 782ms/step - loss: 1422.5205 - accuracy: 0.5300 - val_loss: 41.4091 - val_accuracy: 0.3465\n",
            "Epoch 2/30\n",
            "13/13 [==============================] - 10s 738ms/step - loss: 45.0227 - accuracy: 0.5450 - val_loss: 15.5880 - val_accuracy: 0.6535\n",
            "Epoch 3/30\n",
            "13/13 [==============================] - 10s 748ms/step - loss: 10.4394 - accuracy: 0.5775 - val_loss: 2.3843 - val_accuracy: 0.6535\n",
            "Epoch 4/30\n",
            "13/13 [==============================] - 10s 742ms/step - loss: 4.2116 - accuracy: 0.5950 - val_loss: 0.6811 - val_accuracy: 0.6634\n",
            "Epoch 5/30\n",
            "13/13 [==============================] - 10s 748ms/step - loss: 1.3839 - accuracy: 0.6700 - val_loss: 0.5090 - val_accuracy: 0.7723\n",
            "Epoch 6/30\n",
            "13/13 [==============================] - 10s 756ms/step - loss: 0.9367 - accuracy: 0.7550 - val_loss: 1.2377 - val_accuracy: 0.6733\n",
            "Epoch 7/30\n",
            "13/13 [==============================] - 10s 737ms/step - loss: 0.4807 - accuracy: 0.8450 - val_loss: 0.5631 - val_accuracy: 0.7525\n",
            "Epoch 8/30\n",
            "13/13 [==============================] - 10s 748ms/step - loss: 0.3861 - accuracy: 0.8825 - val_loss: 0.1822 - val_accuracy: 0.9505\n",
            "Epoch 9/30\n",
            "13/13 [==============================] - 10s 753ms/step - loss: 0.1906 - accuracy: 0.9225 - val_loss: 0.2889 - val_accuracy: 0.8515\n",
            "Epoch 10/30\n",
            "13/13 [==============================] - 10s 751ms/step - loss: 0.2176 - accuracy: 0.9325 - val_loss: 0.1377 - val_accuracy: 0.9604\n",
            "Epoch 11/30\n",
            "13/13 [==============================] - 10s 749ms/step - loss: 0.1713 - accuracy: 0.9550 - val_loss: 0.2014 - val_accuracy: 0.9307\n",
            "Epoch 12/30\n",
            "13/13 [==============================] - 10s 749ms/step - loss: 0.1061 - accuracy: 0.9700 - val_loss: 0.1368 - val_accuracy: 0.9505\n",
            "Epoch 13/30\n",
            "13/13 [==============================] - 10s 742ms/step - loss: 0.0681 - accuracy: 0.9775 - val_loss: 0.1591 - val_accuracy: 0.9703\n",
            "Epoch 14/30\n",
            "13/13 [==============================] - 10s 746ms/step - loss: 0.0582 - accuracy: 0.9825 - val_loss: 0.1292 - val_accuracy: 0.9703\n",
            "Epoch 15/30\n",
            "13/13 [==============================] - 10s 743ms/step - loss: 0.0524 - accuracy: 0.9850 - val_loss: 0.1517 - val_accuracy: 0.9703\n",
            "Epoch 16/30\n",
            "13/13 [==============================] - 10s 746ms/step - loss: 0.0719 - accuracy: 0.9850 - val_loss: 0.1882 - val_accuracy: 0.9604\n",
            "Epoch 17/30\n",
            "13/13 [==============================] - 10s 749ms/step - loss: 0.0572 - accuracy: 0.9875 - val_loss: 0.0950 - val_accuracy: 0.9802\n",
            "Epoch 18/30\n",
            "13/13 [==============================] - 10s 759ms/step - loss: 0.0414 - accuracy: 0.9875 - val_loss: 0.1409 - val_accuracy: 0.9703\n",
            "Epoch 19/30\n",
            "13/13 [==============================] - 10s 765ms/step - loss: 0.0261 - accuracy: 0.9950 - val_loss: 0.0773 - val_accuracy: 0.9802\n",
            "Epoch 20/30\n",
            "13/13 [==============================] - 10s 761ms/step - loss: 0.0439 - accuracy: 0.9825 - val_loss: 0.1112 - val_accuracy: 0.9802\n",
            "Epoch 21/30\n",
            "13/13 [==============================] - 10s 754ms/step - loss: 0.0923 - accuracy: 0.9800 - val_loss: 0.1084 - val_accuracy: 0.9703\n",
            "Epoch 22/30\n",
            "13/13 [==============================] - 10s 756ms/step - loss: 0.0658 - accuracy: 0.9900 - val_loss: 0.1470 - val_accuracy: 0.9406\n",
            "Epoch 23/30\n",
            "13/13 [==============================] - 10s 746ms/step - loss: 0.0493 - accuracy: 0.9825 - val_loss: 0.0932 - val_accuracy: 0.9703\n",
            "Epoch 24/30\n",
            "13/13 [==============================] - 10s 753ms/step - loss: 0.0314 - accuracy: 0.9950 - val_loss: 0.0885 - val_accuracy: 0.9703\n",
            "Epoch 25/30\n",
            "13/13 [==============================] - 10s 746ms/step - loss: 0.0405 - accuracy: 0.9875 - val_loss: 0.0765 - val_accuracy: 0.9901\n",
            "Epoch 26/30\n",
            "13/13 [==============================] - 10s 755ms/step - loss: 0.0401 - accuracy: 0.9825 - val_loss: 0.0772 - val_accuracy: 0.9901\n",
            "Epoch 27/30\n",
            "13/13 [==============================] - 10s 747ms/step - loss: 0.0149 - accuracy: 1.0000 - val_loss: 0.0837 - val_accuracy: 0.9703\n",
            "Epoch 28/30\n",
            "13/13 [==============================] - 10s 741ms/step - loss: 0.0141 - accuracy: 0.9925 - val_loss: 0.0620 - val_accuracy: 0.9901\n",
            "Epoch 29/30\n",
            "13/13 [==============================] - 10s 748ms/step - loss: 0.0164 - accuracy: 0.9950 - val_loss: 0.0818 - val_accuracy: 0.9901\n",
            "Epoch 30/30\n",
            "13/13 [==============================] - 10s 740ms/step - loss: 0.0222 - accuracy: 0.9975 - val_loss: 0.0564 - val_accuracy: 0.9802\n"
          ]
        }
      ]
    },
    {
      "cell_type": "code",
      "metadata": {
        "colab": {
          "base_uri": "https://localhost:8080/"
        },
        "id": "V7yngMI5HF7p",
        "outputId": "2854a7df-e6e3-4cce-9589-5f2af33de981"
      },
      "source": [
        "model.evaluate(val_scaled,val_target)"
      ],
      "execution_count": 49,
      "outputs": [
        {
          "output_type": "stream",
          "name": "stdout",
          "text": [
            "4/4 [==============================] - 1s 120ms/step - loss: 0.0564 - accuracy: 0.9802\n"
          ]
        },
        {
          "output_type": "execute_result",
          "data": {
            "text/plain": [
              "[0.05644342675805092, 0.9801980257034302]"
            ]
          },
          "metadata": {},
          "execution_count": 49
        }
      ]
    },
    {
      "cell_type": "code",
      "metadata": {
        "colab": {
          "base_uri": "https://localhost:8080/",
          "height": 541
        },
        "id": "CSs0cccGH5Lh",
        "outputId": "6bc82e0b-81fd-4f1d-a815-738e0a574f17"
      },
      "source": [
        "import matplotlib.pyplot as plt\n",
        "plt.plot((history.history['loss'][4:]))\n",
        "plt.plot((history.history['val_loss'][4:]))\n",
        "plt.xlabel('epoch')\n",
        "plt.ylabel('loss')\n",
        "plt.legend(['train','target'])\n",
        "plt.show()\n",
        "\n",
        "plt.plot(history.history['accuracy'])\n",
        "plt.plot(history.history['val_accuracy'])\n",
        "plt.xlabel('epoch')\n",
        "plt.ylabel('accuracy')\n",
        "plt.legend(['train','target'])\n",
        "\n",
        "plt.show()"
      ],
      "execution_count": 52,
      "outputs": [
        {
          "output_type": "display_data",
          "data": {
            "image/png": "[encoded data removed]",
            "text/plain": [
              "<Figure size 432x288 with 1 Axes>"
            ]
          },
          "metadata": {
            "needs_background": "light"
          }
        },
        {
          "output_type": "display_data",
          "data": {
            "image/png": "[encoded data removed]",
            "text/plain": [
              "<Figure size 432x288 with 1 Axes>"
            ]
          },
          "metadata": {
            "needs_background": "light"
          }
        }
      ]
    },
    {
      "cell_type": "code",
      "metadata": {
        "id": "UDNbi10HNQ_y"
      },
      "source": [
        ""
      ],
      "execution_count": 28,
      "outputs": []
    },
    {
      "cell_type": "code",
      "metadata": {
        "id": "fD6u0-Z5PXwx"
      },
      "source": [
        ""
      ],
      "execution_count": 28,
      "outputs": []
    }
  ]
}