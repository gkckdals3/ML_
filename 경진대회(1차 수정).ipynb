{
  "nbformat": 4,
  "nbformat_minor": 0,
  "metadata": {
    "colab": {
      "name": "경진대회.ipynb",
      "provenance": [],
      "machine_shape": "hm",
      "mount_file_id": "1UhTrXt985t5ptIAIelNIEMBoOoat6WYz",
      "authorship_tag": "ABX9TyMVK+NJQWLdCdXzEQHxLYtK",
      "include_colab_link": true
    },
    "kernelspec": {
      "name": "python3",
      "display_name": "Python 3"
    },
    "language_info": {
      "name": "python"
    }
  },
  "cells": [
    {
      "cell_type": "markdown",
      "metadata": {
        "id": "view-in-github",
        "colab_type": "text"
      },
      "source": [
        "<a href=\"https://colab.research.google.com/github/gkckdals3/ML_/blob/main/%EA%B2%BD%EC%A7%84%EB%8C%80%ED%9A%8C(1%EC%B0%A8%20%EC%88%98%EC%A0%95).ipynb\" target=\"_parent\"><img src=\"https://colab.research.google.com/assets/colab-badge.svg\" alt=\"Open In Colab\"/></a>"
      ]
    },
    {
      "cell_type": "code",
      "metadata": {
        "id": "IruI6Dc5AYew"
      },
      "source": [
        "from keras.preprocessing.image import ImageDataGenerator\n",
        "import numpy as np\n",
        "import cv2"
      ],
      "execution_count": 16,
      "outputs": []
    },
    {
      "cell_type": "code",
      "metadata": {
        "colab": {
          "base_uri": "https://localhost:8080/"
        },
        "id": "HnRN6jh-Blif",
        "outputId": "ababbccc-5a49-4180-e369-e5b159e0280e"
      },
      "source": [
        "import glob\n",
        "from google.colab import drive\n",
        "import pandas as pd\n",
        "drive.mount('/gdrive', force_remount=True)\n",
        "#train 타겟값 target에 저장\n",
        "target_table=pd.read_csv('/gdrive/MyDrive/SyntekaBio/train_output.csv').to_numpy()\n",
        "target=target_table[:,1:].astype(float)\n",
        "train_data =(sorted(glob.glob('/gdrive/MyDrive/SyntekaBio/train/PNG/*.png')))\n"
      ],
      "execution_count": 17,
      "outputs": [
        {
          "output_type": "stream",
          "name": "stdout",
          "text": [
            "Mounted at /gdrive\n"
          ]
        }
      ]
    },
    {
      "cell_type": "code",
      "metadata": {
        "id": "J9DFtkxZB5cu",
        "colab": {
          "base_uri": "https://localhost:8080/"
        },
        "outputId": "3a0dcd30-3435-48d3-fbbc-3fa7ea99e64b"
      },
      "source": [
        "#전체 데이터 불러오기/데이터 10분에 1로 축소\n",
        "for i in range (len(train_data)):\n",
        "  train_data[i]=cv2.imread(train_data[i])\n",
        "  train_data[i]=cv2.resize(train_data[i],dsize=(128, 128),interpolation=cv2.INTER_AREA)\n",
        "  train_data[i]=train_data[i].astype(np.float32)/255\n",
        "train_scaled=np.array(train_data)\n",
        "train_scaled.shape"
      ],
      "execution_count": 18,
      "outputs": [
        {
          "output_type": "execute_result",
          "data": {
            "text/plain": [
              "(501, 128, 128, 3)"
            ]
          },
          "metadata": {},
          "execution_count": 18
        }
      ]
    },
    {
      "cell_type": "code",
      "metadata": {
        "id": "_dDSYMJpDant",
        "colab": {
          "base_uri": "https://localhost:8080/"
        },
        "outputId": "8b877320-1fc2-41b9-cc4e-cb45338be43b"
      },
      "source": [
        "from tensorflow import keras\n",
        "from sklearn.model_selection import train_test_split\n",
        "\n",
        "train_scaled.reshape(-1,128,128,3)"
      ],
      "execution_count": 19,
      "outputs": [
        {
          "output_type": "execute_result",
          "data": {
            "text/plain": [
              "array([[[[1.        , 1.        , 0.84313726],\n",
              "         [1.        , 1.        , 0.84313726],\n",
              "         [1.        , 1.        , 0.84313726],\n",
              "         ...,\n",
              "         [1.        , 1.        , 0.84313726],\n",
              "         [1.        , 1.        , 0.84313726],\n",
              "         [1.        , 0.        , 0.        ]],\n",
              "\n",
              "        [[1.        , 1.        , 0.84313726],\n",
              "         [1.        , 0.        , 0.        ],\n",
              "         [1.        , 1.        , 0.84313726],\n",
              "         ...,\n",
              "         [1.        , 1.        , 0.84313726],\n",
              "         [1.        , 1.        , 0.84313726],\n",
              "         [1.        , 1.        , 0.84313726]],\n",
              "\n",
              "        [[1.        , 1.        , 0.84313726],\n",
              "         [1.        , 1.        , 0.84313726],\n",
              "         [1.        , 1.        , 0.84313726],\n",
              "         ...,\n",
              "         [1.        , 0.        , 0.        ],\n",
              "         [1.        , 1.        , 0.84313726],\n",
              "         [1.        , 1.        , 0.84313726]],\n",
              "\n",
              "        ...,\n",
              "\n",
              "        [[1.        , 1.        , 0.84313726],\n",
              "         [1.        , 1.        , 0.84313726],\n",
              "         [1.        , 1.        , 0.84313726],\n",
              "         ...,\n",
              "         [1.        , 1.        , 0.84313726],\n",
              "         [1.        , 1.        , 0.84313726],\n",
              "         [1.        , 1.        , 0.84313726]],\n",
              "\n",
              "        [[1.        , 1.        , 0.84313726],\n",
              "         [1.        , 1.        , 0.84313726],\n",
              "         [1.        , 1.        , 0.84313726],\n",
              "         ...,\n",
              "         [1.        , 1.        , 0.84313726],\n",
              "         [0.        , 1.        , 1.        ],\n",
              "         [1.        , 1.        , 0.84313726]],\n",
              "\n",
              "        [[1.        , 1.        , 0.84313726],\n",
              "         [1.        , 1.        , 0.84313726],\n",
              "         [1.        , 1.        , 0.84313726],\n",
              "         ...,\n",
              "         [1.        , 1.        , 0.84313726],\n",
              "         [1.        , 1.        , 0.84313726],\n",
              "         [1.        , 1.        , 0.84313726]]],\n",
              "\n",
              "\n",
              "       [[[1.        , 1.        , 0.84313726],\n",
              "         [1.        , 1.        , 0.84313726],\n",
              "         [1.        , 1.        , 0.84313726],\n",
              "         ...,\n",
              "         [1.        , 1.        , 0.84313726],\n",
              "         [1.        , 1.        , 0.84313726],\n",
              "         [1.        , 1.        , 0.84313726]],\n",
              "\n",
              "        [[1.        , 1.        , 0.84313726],\n",
              "         [1.        , 1.        , 0.84313726],\n",
              "         [1.        , 1.        , 0.84313726],\n",
              "         ...,\n",
              "         [1.        , 1.        , 0.84313726],\n",
              "         [1.        , 1.        , 0.84313726],\n",
              "         [1.        , 1.        , 0.84313726]],\n",
              "\n",
              "        [[1.        , 1.        , 0.84313726],\n",
              "         [1.        , 1.        , 0.84313726],\n",
              "         [1.        , 1.        , 0.84313726],\n",
              "         ...,\n",
              "         [1.        , 1.        , 0.84313726],\n",
              "         [1.        , 1.        , 0.84313726],\n",
              "         [1.        , 1.        , 0.84313726]],\n",
              "\n",
              "        ...,\n",
              "\n",
              "        [[1.        , 1.        , 0.84313726],\n",
              "         [1.        , 1.        , 0.84313726],\n",
              "         [1.        , 1.        , 0.84313726],\n",
              "         ...,\n",
              "         [1.        , 1.        , 0.84313726],\n",
              "         [0.        , 0.7254902 , 0.        ],\n",
              "         [1.        , 1.        , 0.84313726]],\n",
              "\n",
              "        [[1.        , 1.        , 0.84313726],\n",
              "         [1.        , 1.        , 0.84313726],\n",
              "         [1.        , 1.        , 0.84313726],\n",
              "         ...,\n",
              "         [1.        , 1.        , 0.84313726],\n",
              "         [0.        , 1.        , 1.        ],\n",
              "         [1.        , 1.        , 0.84313726]],\n",
              "\n",
              "        [[1.        , 1.        , 0.84313726],\n",
              "         [1.        , 1.        , 0.84313726],\n",
              "         [1.        , 1.        , 0.84313726],\n",
              "         ...,\n",
              "         [1.        , 1.        , 0.84313726],\n",
              "         [1.        , 1.        , 0.84313726],\n",
              "         [1.        , 1.        , 0.84313726]]],\n",
              "\n",
              "\n",
              "       [[[1.        , 1.        , 0.84313726],\n",
              "         [1.        , 1.        , 0.84313726],\n",
              "         [1.        , 1.        , 0.84313726],\n",
              "         ...,\n",
              "         [1.        , 1.        , 0.84313726],\n",
              "         [1.        , 1.        , 0.84313726],\n",
              "         [1.        , 1.        , 0.84313726]],\n",
              "\n",
              "        [[1.        , 1.        , 0.84313726],\n",
              "         [0.        , 0.7254902 , 0.        ],\n",
              "         [1.        , 1.        , 0.84313726],\n",
              "         ...,\n",
              "         [1.        , 1.        , 0.84313726],\n",
              "         [1.        , 1.        , 0.84313726],\n",
              "         [1.        , 1.        , 0.84313726]],\n",
              "\n",
              "        [[1.        , 1.        , 0.84313726],\n",
              "         [1.        , 1.        , 0.84313726],\n",
              "         [1.        , 1.        , 0.84313726],\n",
              "         ...,\n",
              "         [1.        , 1.        , 0.84313726],\n",
              "         [1.        , 1.        , 0.84313726],\n",
              "         [1.        , 1.        , 0.84313726]],\n",
              "\n",
              "        ...,\n",
              "\n",
              "        [[1.        , 1.        , 0.84313726],\n",
              "         [1.        , 1.        , 0.84313726],\n",
              "         [1.        , 1.        , 0.84313726],\n",
              "         ...,\n",
              "         [1.        , 1.        , 0.84313726],\n",
              "         [1.        , 1.        , 0.84313726],\n",
              "         [1.        , 1.        , 0.84313726]],\n",
              "\n",
              "        [[1.        , 1.        , 0.84313726],\n",
              "         [1.        , 1.        , 0.84313726],\n",
              "         [1.        , 1.        , 0.84313726],\n",
              "         ...,\n",
              "         [1.        , 1.        , 0.84313726],\n",
              "         [0.        , 0.        , 1.        ],\n",
              "         [1.        , 1.        , 0.84313726]],\n",
              "\n",
              "        [[1.        , 1.        , 0.84313726],\n",
              "         [1.        , 1.        , 0.84313726],\n",
              "         [1.        , 1.        , 0.84313726],\n",
              "         ...,\n",
              "         [1.        , 1.        , 0.84313726],\n",
              "         [1.        , 1.        , 0.84313726],\n",
              "         [1.        , 1.        , 0.84313726]]],\n",
              "\n",
              "\n",
              "       ...,\n",
              "\n",
              "\n",
              "       [[[1.        , 1.        , 0.84313726],\n",
              "         [1.        , 1.        , 0.84313726],\n",
              "         [1.        , 1.        , 0.84313726],\n",
              "         ...,\n",
              "         [1.        , 1.        , 0.84313726],\n",
              "         [1.        , 1.        , 0.84313726],\n",
              "         [1.        , 1.        , 0.84313726]],\n",
              "\n",
              "        [[1.        , 1.        , 0.84313726],\n",
              "         [0.        , 0.7254902 , 0.        ],\n",
              "         [1.        , 1.        , 0.84313726],\n",
              "         ...,\n",
              "         [1.        , 1.        , 0.84313726],\n",
              "         [1.        , 1.        , 0.84313726],\n",
              "         [1.        , 1.        , 0.84313726]],\n",
              "\n",
              "        [[1.        , 1.        , 0.84313726],\n",
              "         [1.        , 1.        , 0.84313726],\n",
              "         [1.        , 1.        , 0.84313726],\n",
              "         ...,\n",
              "         [1.        , 0.        , 0.        ],\n",
              "         [1.        , 1.        , 0.84313726],\n",
              "         [1.        , 1.        , 0.84313726]],\n",
              "\n",
              "        ...,\n",
              "\n",
              "        [[1.        , 1.        , 0.84313726],\n",
              "         [1.        , 1.        , 0.84313726],\n",
              "         [1.        , 1.        , 0.84313726],\n",
              "         ...,\n",
              "         [1.        , 1.        , 0.84313726],\n",
              "         [0.        , 0.7254902 , 0.        ],\n",
              "         [1.        , 1.        , 0.84313726]],\n",
              "\n",
              "        [[1.        , 1.        , 0.84313726],\n",
              "         [1.        , 1.        , 0.84313726],\n",
              "         [1.        , 1.        , 0.84313726],\n",
              "         ...,\n",
              "         [1.        , 1.        , 0.84313726],\n",
              "         [0.        , 1.        , 1.        ],\n",
              "         [1.        , 1.        , 0.84313726]],\n",
              "\n",
              "        [[1.        , 1.        , 0.84313726],\n",
              "         [1.        , 1.        , 0.84313726],\n",
              "         [1.        , 1.        , 0.84313726],\n",
              "         ...,\n",
              "         [1.        , 1.        , 0.84313726],\n",
              "         [1.        , 1.        , 0.84313726],\n",
              "         [1.        , 1.        , 0.84313726]]],\n",
              "\n",
              "\n",
              "       [[[1.        , 1.        , 0.84313726],\n",
              "         [1.        , 1.        , 0.84313726],\n",
              "         [1.        , 1.        , 0.84313726],\n",
              "         ...,\n",
              "         [1.        , 1.        , 0.84313726],\n",
              "         [1.        , 1.        , 0.84313726],\n",
              "         [1.        , 0.        , 0.        ]],\n",
              "\n",
              "        [[1.        , 1.        , 0.84313726],\n",
              "         [1.        , 1.        , 0.84313726],\n",
              "         [1.        , 1.        , 0.84313726],\n",
              "         ...,\n",
              "         [1.        , 1.        , 0.84313726],\n",
              "         [1.        , 1.        , 0.84313726],\n",
              "         [1.        , 1.        , 0.84313726]],\n",
              "\n",
              "        [[1.        , 1.        , 0.84313726],\n",
              "         [1.        , 1.        , 0.84313726],\n",
              "         [1.        , 1.        , 0.84313726],\n",
              "         ...,\n",
              "         [1.        , 0.        , 0.        ],\n",
              "         [1.        , 1.        , 0.84313726],\n",
              "         [1.        , 1.        , 0.84313726]],\n",
              "\n",
              "        ...,\n",
              "\n",
              "        [[1.        , 1.        , 0.84313726],\n",
              "         [1.        , 1.        , 0.84313726],\n",
              "         [1.        , 1.        , 0.84313726],\n",
              "         ...,\n",
              "         [1.        , 1.        , 0.84313726],\n",
              "         [1.        , 0.        , 0.        ],\n",
              "         [1.        , 1.        , 0.84313726]],\n",
              "\n",
              "        [[1.        , 1.        , 0.84313726],\n",
              "         [1.        , 1.        , 0.84313726],\n",
              "         [1.        , 1.        , 0.84313726],\n",
              "         ...,\n",
              "         [1.        , 1.        , 0.84313726],\n",
              "         [0.        , 0.        , 1.        ],\n",
              "         [1.        , 1.        , 0.84313726]],\n",
              "\n",
              "        [[1.        , 1.        , 0.84313726],\n",
              "         [1.        , 1.        , 0.84313726],\n",
              "         [1.        , 1.        , 0.84313726],\n",
              "         ...,\n",
              "         [1.        , 1.        , 0.84313726],\n",
              "         [1.        , 1.        , 0.84313726],\n",
              "         [1.        , 1.        , 0.84313726]]],\n",
              "\n",
              "\n",
              "       [[[1.        , 1.        , 0.84313726],\n",
              "         [1.        , 1.        , 0.84313726],\n",
              "         [1.        , 1.        , 0.84313726],\n",
              "         ...,\n",
              "         [1.        , 1.        , 0.84313726],\n",
              "         [1.        , 1.        , 0.84313726],\n",
              "         [1.        , 1.        , 0.84313726]],\n",
              "\n",
              "        [[1.        , 1.        , 0.84313726],\n",
              "         [1.        , 0.        , 0.        ],\n",
              "         [1.        , 1.        , 0.84313726],\n",
              "         ...,\n",
              "         [1.        , 1.        , 0.84313726],\n",
              "         [1.        , 1.        , 0.84313726],\n",
              "         [1.        , 1.        , 0.84313726]],\n",
              "\n",
              "        [[1.        , 1.        , 0.84313726],\n",
              "         [1.        , 1.        , 0.84313726],\n",
              "         [1.        , 1.        , 0.84313726],\n",
              "         ...,\n",
              "         [1.        , 0.        , 0.        ],\n",
              "         [1.        , 1.        , 0.84313726],\n",
              "         [1.        , 1.        , 0.84313726]],\n",
              "\n",
              "        ...,\n",
              "\n",
              "        [[1.        , 1.        , 0.84313726],\n",
              "         [1.        , 1.        , 0.84313726],\n",
              "         [1.        , 1.        , 0.84313726],\n",
              "         ...,\n",
              "         [1.        , 1.        , 0.84313726],\n",
              "         [1.        , 1.        , 0.84313726],\n",
              "         [1.        , 1.        , 0.84313726]],\n",
              "\n",
              "        [[0.        , 1.        , 1.        ],\n",
              "         [1.        , 1.        , 0.84313726],\n",
              "         [1.        , 1.        , 0.84313726],\n",
              "         ...,\n",
              "         [1.        , 1.        , 0.84313726],\n",
              "         [0.        , 0.        , 1.        ],\n",
              "         [1.        , 1.        , 0.84313726]],\n",
              "\n",
              "        [[1.        , 1.        , 0.84313726],\n",
              "         [1.        , 1.        , 0.84313726],\n",
              "         [1.        , 1.        , 0.84313726],\n",
              "         ...,\n",
              "         [1.        , 1.        , 0.84313726],\n",
              "         [1.        , 1.        , 0.84313726],\n",
              "         [1.        , 1.        , 0.84313726]]]], dtype=float32)"
            ]
          },
          "metadata": {},
          "execution_count": 19
        }
      ]
    },
    {
      "cell_type": "code",
      "metadata": {
        "colab": {
          "base_uri": "https://localhost:8080/"
        },
        "id": "clgdOjT-_v0T",
        "outputId": "e83ade18-d24d-4bac-b7fb-d73bdc2e0ba9"
      },
      "source": [
        "from sklearn.model_selection import train_test_split\n",
        "\n",
        "train_scaled,val_scaled,train_target,val_target=train_test_split(train_scaled,target,test_size=0.2)\n",
        "print('학습 데이터 shape : ', train_scaled.shape)\n",
        "print('검증 데이터 shape : ', val_scaled.shape)\n",
        "print('학습 타겟 shape : ', train_target.shape)\n",
        "print('검증 타겟 shape : ', val_target.shape)"
      ],
      "execution_count": 20,
      "outputs": [
        {
          "output_type": "stream",
          "name": "stdout",
          "text": [
            "학습 데이터 shape :  (400, 128, 128, 3)\n",
            "검증 데이터 shape :  (101, 128, 128, 3)\n",
            "학습 타겟 shape :  (400, 1)\n",
            "검증 타겟 shape :  (101, 1)\n"
          ]
        }
      ]
    },
    {
      "cell_type": "code",
      "metadata": {
        "id": "ISkDoGuPM1iO"
      },
      "source": [
        "import keras\n",
        "model = keras.Sequential()\n",
        "model.add(keras.layers.Conv2D(128, kernel_size=(3,3), activation='relu', kernel_initializer='he_uniform', input_shape=(128,128,3)))\n",
        "model.add(keras.layers.MaxPooling2D(padding='SAME'))\n",
        "model.add(keras.layers.Dropout(0.2))\n",
        "model.add(keras.layers.Flatten())\n",
        "model.add(keras.layers.Dense(256, activation='relu', kernel_initializer='he_uniform'))\n",
        "model.add(keras.layers.Dropout(0.2))\n",
        "model.add(keras.layers.Dense(128, activation='relu', kernel_initializer='he_uniform'))\n",
        "model.add(keras.layers.Dense(1, activation='sigmoid'))"
      ],
      "execution_count": 21,
      "outputs": []
    },
    {
      "cell_type": "code",
      "metadata": {
        "id": "Ha08LuZINC7-",
        "colab": {
          "base_uri": "https://localhost:8080/"
        },
        "outputId": "6383f53e-70df-4866-8751-4fafbef0696f"
      },
      "source": [
        "model.summary()"
      ],
      "execution_count": 22,
      "outputs": [
        {
          "output_type": "stream",
          "name": "stdout",
          "text": [
            "Model: \"sequential_2\"\n",
            "_________________________________________________________________\n",
            "Layer (type)                 Output Shape              Param #   \n",
            "=================================================================\n",
            "conv2d_2 (Conv2D)            (None, 126, 126, 128)     3584      \n",
            "_________________________________________________________________\n",
            "max_pooling2d_2 (MaxPooling2 (None, 63, 63, 128)       0         \n",
            "_________________________________________________________________\n",
            "dropout_2 (Dropout)          (None, 63, 63, 128)       0         \n",
            "_________________________________________________________________\n",
            "flatten_2 (Flatten)          (None, 508032)            0         \n",
            "_________________________________________________________________\n",
            "dense_7 (Dense)              (None, 256)               130056448 \n",
            "_________________________________________________________________\n",
            "dropout_3 (Dropout)          (None, 256)               0         \n",
            "_________________________________________________________________\n",
            "dense_8 (Dense)              (None, 128)               32896     \n",
            "_________________________________________________________________\n",
            "dense_9 (Dense)              (None, 1)                 129       \n",
            "=================================================================\n",
            "Total params: 130,093,057\n",
            "Trainable params: 130,093,057\n",
            "Non-trainable params: 0\n",
            "_________________________________________________________________\n"
          ]
        }
      ]
    },
    {
      "cell_type": "code",
      "metadata": {
        "id": "0qrpevfsfv1b",
        "colab": {
          "base_uri": "https://localhost:8080/"
        },
        "outputId": "8323664c-9d86-4bc8-cd44-1476a37b5e1f"
      },
      "source": [
        "import tensorflow\n",
        "from tensorflow.keras.optimizers import Adam\n",
        "model.compile(loss='binary_crossentropy',\n",
        "              optimizer = Adam(learning_rate=0.01), \n",
        "              metrics=['accuracy'])\n",
        "print(train_scaled.shape)\n",
        "print(train_target.shape)"
      ],
      "execution_count": 23,
      "outputs": [
        {
          "output_type": "stream",
          "name": "stdout",
          "text": [
            "(400, 128, 128, 3)\n",
            "(400, 1)\n"
          ]
        }
      ]
    },
    {
      "cell_type": "code",
      "metadata": {
        "colab": {
          "base_uri": "https://localhost:8080/"
        },
        "id": "H0dVBkYQNGIu",
        "outputId": "99684803-88b5-41d4-e8dc-01c7fc38a92a"
      },
      "source": [
        "history = model.fit(\n",
        "            train_scaled, train_target, \n",
        "            validation_data = (val_scaled,val_target),\n",
        "            batch_size = 32,\n",
        "            epochs = 30\n",
        "                    )"
      ],
      "execution_count": 24,
      "outputs": [
        {
          "output_type": "stream",
          "name": "stdout",
          "text": [
            "Epoch 1/30\n",
            "13/13 [==============================] - 12s 841ms/step - loss: 1803.2069 - accuracy: 0.5475 - val_loss: 6.9289 - val_accuracy: 0.3267\n",
            "Epoch 2/30\n",
            "13/13 [==============================] - 11s 822ms/step - loss: 19.4084 - accuracy: 0.5500 - val_loss: 5.9894 - val_accuracy: 0.6733\n",
            "Epoch 3/30\n",
            "13/13 [==============================] - 11s 824ms/step - loss: 2.4666 - accuracy: 0.5775 - val_loss: 0.6781 - val_accuracy: 0.6733\n",
            "Epoch 4/30\n",
            "13/13 [==============================] - 11s 825ms/step - loss: 0.8040 - accuracy: 0.6600 - val_loss: 0.5675 - val_accuracy: 0.6733\n",
            "Epoch 5/30\n",
            "13/13 [==============================] - 11s 820ms/step - loss: 0.6277 - accuracy: 0.6650 - val_loss: 0.5241 - val_accuracy: 0.7129\n",
            "Epoch 6/30\n",
            "13/13 [==============================] - 11s 819ms/step - loss: 0.5191 - accuracy: 0.7375 - val_loss: 0.4101 - val_accuracy: 0.8317\n",
            "Epoch 7/30\n",
            "13/13 [==============================] - 11s 829ms/step - loss: 0.2705 - accuracy: 0.9075 - val_loss: 0.2709 - val_accuracy: 0.9703\n",
            "Epoch 8/30\n",
            "13/13 [==============================] - 11s 815ms/step - loss: 0.1992 - accuracy: 0.9375 - val_loss: 0.2851 - val_accuracy: 0.9109\n",
            "Epoch 9/30\n",
            "13/13 [==============================] - 11s 820ms/step - loss: 0.1569 - accuracy: 0.9500 - val_loss: 0.3187 - val_accuracy: 0.8020\n",
            "Epoch 10/30\n",
            "13/13 [==============================] - 11s 817ms/step - loss: 0.0847 - accuracy: 0.9875 - val_loss: 0.2150 - val_accuracy: 0.8911\n",
            "Epoch 11/30\n",
            "13/13 [==============================] - 11s 825ms/step - loss: 0.0678 - accuracy: 0.9775 - val_loss: 0.1612 - val_accuracy: 0.9208\n",
            "Epoch 12/30\n",
            "13/13 [==============================] - 11s 814ms/step - loss: 0.0508 - accuracy: 0.9850 - val_loss: 0.1121 - val_accuracy: 0.9505\n",
            "Epoch 13/30\n",
            "13/13 [==============================] - 11s 824ms/step - loss: 0.0560 - accuracy: 0.9825 - val_loss: 0.1198 - val_accuracy: 0.9406\n",
            "Epoch 14/30\n",
            "13/13 [==============================] - 11s 811ms/step - loss: 0.0230 - accuracy: 0.9875 - val_loss: 0.0841 - val_accuracy: 0.9703\n",
            "Epoch 15/30\n",
            "13/13 [==============================] - 11s 817ms/step - loss: 0.0236 - accuracy: 0.9875 - val_loss: 0.4365 - val_accuracy: 0.8812\n",
            "Epoch 16/30\n",
            "13/13 [==============================] - 15s 1s/step - loss: 0.0227 - accuracy: 0.9950 - val_loss: 0.2132 - val_accuracy: 0.9208\n",
            "Epoch 17/30\n",
            "13/13 [==============================] - 13s 990ms/step - loss: 0.0054 - accuracy: 1.0000 - val_loss: 0.2892 - val_accuracy: 0.9010\n",
            "Epoch 18/30\n",
            "13/13 [==============================] - 11s 865ms/step - loss: 0.0184 - accuracy: 0.9925 - val_loss: 0.1343 - val_accuracy: 0.9505\n",
            "Epoch 19/30\n",
            "13/13 [==============================] - 11s 837ms/step - loss: 0.0241 - accuracy: 0.9875 - val_loss: 0.0840 - val_accuracy: 0.9703\n",
            "Epoch 20/30\n",
            "13/13 [==============================] - 11s 844ms/step - loss: 0.0232 - accuracy: 0.9900 - val_loss: 0.1478 - val_accuracy: 0.9505\n",
            "Epoch 21/30\n",
            "13/13 [==============================] - 11s 831ms/step - loss: 0.0058 - accuracy: 1.0000 - val_loss: 0.1973 - val_accuracy: 0.9307\n",
            "Epoch 22/30\n",
            "13/13 [==============================] - 11s 841ms/step - loss: 0.0061 - accuracy: 1.0000 - val_loss: 0.7772 - val_accuracy: 0.8515\n",
            "Epoch 23/30\n",
            "13/13 [==============================] - 11s 838ms/step - loss: 0.0034 - accuracy: 1.0000 - val_loss: 0.1189 - val_accuracy: 0.9802\n",
            "Epoch 24/30\n",
            "13/13 [==============================] - 11s 872ms/step - loss: 0.0038 - accuracy: 0.9975 - val_loss: 0.1072 - val_accuracy: 0.9901\n",
            "Epoch 25/30\n",
            "13/13 [==============================] - 11s 815ms/step - loss: 0.0029 - accuracy: 0.9975 - val_loss: 0.1088 - val_accuracy: 0.9802\n",
            "Epoch 26/30\n",
            "13/13 [==============================] - 11s 819ms/step - loss: 0.0016 - accuracy: 1.0000 - val_loss: 0.1816 - val_accuracy: 0.9505\n",
            "Epoch 27/30\n",
            "13/13 [==============================] - 11s 820ms/step - loss: 0.0071 - accuracy: 0.9975 - val_loss: 0.1992 - val_accuracy: 0.9505\n",
            "Epoch 28/30\n",
            "13/13 [==============================] - 11s 815ms/step - loss: 0.0029 - accuracy: 1.0000 - val_loss: 0.4648 - val_accuracy: 0.8713\n",
            "Epoch 29/30\n",
            "13/13 [==============================] - 11s 823ms/step - loss: 0.0247 - accuracy: 0.9900 - val_loss: 0.1038 - val_accuracy: 0.9901\n",
            "Epoch 30/30\n",
            "13/13 [==============================] - 11s 820ms/step - loss: 0.0131 - accuracy: 0.9925 - val_loss: 0.1123 - val_accuracy: 0.9901\n"
          ]
        }
      ]
    }
  ]
}